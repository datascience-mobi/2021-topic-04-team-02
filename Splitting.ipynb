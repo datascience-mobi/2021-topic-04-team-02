{
 "cells": [
  {
   "cell_type": "markdown",
   "id": "25028f69",
   "metadata": {},
   "source": [
    "Ok so here's what I tried:\n",
    "- put code for centered cov matrix into a function: 'center' (the function can also output a correlation matrix)\n",
    "- the output is the cov matrix and also the rescaled Matrix\n",
    "- the input for 'PCA' is changed to the outputs of 'center'\n",
    "- instead of 'train_mean = None': 'center_test_values' (not happy with 2 very similar functions, will fix into 1 func 'center')\n",
    "\n",
    "Advantages:\n",
    "- seperate modules\n",
    "- compare effects of corr mat vs cov mat (both work well so far!)\n",
    "\n",
    "Disadvantages:\n",
    "- less elegant (so far)\n",
    "\n",
    "Thoughts and struggles and to do:\n",
    "- correlation makes more sense here to me... ähnlicher Inhalt, mehr normalisiert. Sinnvoller auch wenn es wenig Unterschied für das Programm macht\n",
    "- ~np.cov and np.corrcoef are kinda sus: I've written my own correlation function that works the same but np.cov is strange (see bottom of this doc!)~ fixed.\n",
    "- own versions of np.cov and np.corrcoef are so SLOW \n",
    "- -> but they are necessary bc we want to apply centering and scaling from train values to the test values\n",
    "- **Why X-mean???** Doesnt cov do that 4 u? The matrices are different! it should be redundant? but its not...\n",
    "- test center function is still missing corr bit\n",
    "- messy amount of variables in final code block"
   ]
  },
  {
   "cell_type": "code",
   "execution_count": 38,
   "id": "38fa2fa8",
   "metadata": {},
   "outputs": [],
   "source": [
    "def center(X, scale = False):\n",
    "    mean = np.mean(X, axis = 0)\n",
    "    X_mean = X - mean\n",
    "    cov_mat = np.cov(X_mean, rowvar = 0)\n",
    "    #cov_mat = cov_columns(X_mean, X_mean)\n",
    "    c_mat = cov_mat\n",
    "    if scale:\n",
    "        corr_mat = np.corrcoef(X_mean, rowvar=False)\n",
    "        corr_mat[np.isnan(corr_mat)] = cov_mat[np.isnan(corr_mat)] # or replace with 0???\n",
    "        c_mat = corr_mat\n",
    "    return c_mat, X_mean\n",
    "\n",
    "def center_test_values(X, Y, scale = False):\n",
    "    mean = np.mean(Y, axis =0)\n",
    "    X_mean = X - mean\n",
    "    cov_mat = np.cov(X_mean, rowvar = 0)\n",
    "    #cov_mat = cov_columns(X_mean, Y)\n",
    "    c_mat = cov_mat\n",
    "    if scale:\n",
    "        x = len(Y[0])\n",
    "        c = (1/(x))\n",
    "        corr_mat = np.zeros((x, x))\n",
    "        for i in range(0, x):\n",
    "            for j in range (0, x):\n",
    "                corr_mat[i,j] = c * np.dot(((X[:,i] - np.mean(Y[:,i]))/ np.std(Y[:,i])) , ((X[:,j] - np.mean(Y[:,j]))/ np.std(Y[:,j])))\n",
    "        corr_mat[np.isnan(corr_mat)] = cov_mat[np.isnan(corr_mat)]\n",
    "        c_mat = corr_mat\n",
    "    return c_mat, X_mean"
   ]
  },
  {
   "cell_type": "code",
   "execution_count": 6,
   "id": "e6d8b38e",
   "metadata": {},
   "outputs": [],
   "source": [
    "def PCA_func_mod(centered_x, X_mean, num_components, train_evs = None):\n",
    "    # eigen values\n",
    "    eigen_values, eigen_vectors = np.linalg.eigh(centered_x)\n",
    "    # eigenvectors\n",
    "    sorted_index = np.argsort(eigen_values)[::-1]\n",
    "    sorted_eigenvalue = eigen_values[sorted_index]\n",
    "    sorted_eigenvectors = eigen_vectors[:, sorted_index]\n",
    "    # subset\n",
    "    eigenvector_subset = sorted_eigenvectors[:, 0:num_components]\n",
    "    # if we want to use the PCA that has been trained on the train set for the test set,\n",
    "    # we want to use the eigenvector subset that has been calculated on the train set for classification\n",
    "    # on the test set:\n",
    "    if train_evs is not None:\n",
    "        eigenvector_subset = train_evs\n",
    "    X_reduced = np.dot(X_mean, eigenvector_subset)\n",
    "    # we return X_reduced (the input reduced to num_components PCA),\n",
    "    # the mean and the eigenvector subset (if we run the function for training, we need these for testing)\n",
    "    return X_reduced, eigenvector_subset"
   ]
  },
  {
   "cell_type": "markdown",
   "id": "7b88510d",
   "metadata": {},
   "source": [
    "## executable final project:"
   ]
  },
  {
   "cell_type": "code",
   "execution_count": 39,
   "id": "50cbfd0e",
   "metadata": {},
   "outputs": [
    {
     "ename": "KeyboardInterrupt",
     "evalue": "",
     "output_type": "error",
     "traceback": [
      "\u001b[1;31m---------------------------------------------------------------------------\u001b[0m",
      "\u001b[1;31mKeyboardInterrupt\u001b[0m                         Traceback (most recent call last)",
      "\u001b[1;32m<ipython-input-39-1a03977e52e4>\u001b[0m in \u001b[0;36m<module>\u001b[1;34m\u001b[0m\n\u001b[0;32m     17\u001b[0m \u001b[1;33m\u001b[0m\u001b[0m\n\u001b[0;32m     18\u001b[0m \u001b[1;31m# PCA and standardization:\u001b[0m\u001b[1;33m\u001b[0m\u001b[1;33m\u001b[0m\u001b[1;33m\u001b[0m\u001b[0m\n\u001b[1;32m---> 19\u001b[1;33m \u001b[0mtrain_values_centered\u001b[0m\u001b[1;33m,\u001b[0m \u001b[0mtrain_mean\u001b[0m \u001b[1;33m=\u001b[0m \u001b[0mcenter\u001b[0m\u001b[1;33m(\u001b[0m\u001b[0mtrain_values\u001b[0m\u001b[1;33m)\u001b[0m\u001b[1;33m\u001b[0m\u001b[1;33m\u001b[0m\u001b[0m\n\u001b[0m\u001b[0;32m     20\u001b[0m \u001b[0mtrain_values_pca\u001b[0m\u001b[1;33m,\u001b[0m \u001b[0mtrain_evs\u001b[0m \u001b[1;33m=\u001b[0m \u001b[0mPCA_func_mod\u001b[0m\u001b[1;33m(\u001b[0m\u001b[0mtrain_values_centered\u001b[0m\u001b[1;33m,\u001b[0m \u001b[0mtrain_mean\u001b[0m\u001b[1;33m,\u001b[0m \u001b[0mnumber_of_pcs\u001b[0m\u001b[1;33m)\u001b[0m\u001b[1;33m\u001b[0m\u001b[1;33m\u001b[0m\u001b[0m\n\u001b[0;32m     21\u001b[0m \u001b[1;33m\u001b[0m\u001b[0m\n",
      "\u001b[1;32m<ipython-input-38-cf7b65454b56>\u001b[0m in \u001b[0;36mcenter\u001b[1;34m(X, scale)\u001b[0m\n\u001b[0;32m      3\u001b[0m     \u001b[0mX_mean\u001b[0m \u001b[1;33m=\u001b[0m \u001b[0mX\u001b[0m \u001b[1;33m-\u001b[0m \u001b[0mmean\u001b[0m\u001b[1;33m\u001b[0m\u001b[1;33m\u001b[0m\u001b[0m\n\u001b[0;32m      4\u001b[0m     \u001b[1;31m#cov_mat = np.cov(X_mean, rowvar = 0)\u001b[0m\u001b[1;33m\u001b[0m\u001b[1;33m\u001b[0m\u001b[1;33m\u001b[0m\u001b[0m\n\u001b[1;32m----> 5\u001b[1;33m     \u001b[0mcov_mat\u001b[0m \u001b[1;33m=\u001b[0m \u001b[0mcov_columns\u001b[0m\u001b[1;33m(\u001b[0m\u001b[0mX_mean\u001b[0m\u001b[1;33m,\u001b[0m \u001b[0mX_mean\u001b[0m\u001b[1;33m)\u001b[0m\u001b[1;33m\u001b[0m\u001b[1;33m\u001b[0m\u001b[0m\n\u001b[0m\u001b[0;32m      6\u001b[0m     \u001b[0mc_mat\u001b[0m \u001b[1;33m=\u001b[0m \u001b[0mcov_mat\u001b[0m\u001b[1;33m\u001b[0m\u001b[1;33m\u001b[0m\u001b[0m\n\u001b[0;32m      7\u001b[0m     \u001b[1;32mif\u001b[0m \u001b[0mscale\u001b[0m\u001b[1;33m:\u001b[0m\u001b[1;33m\u001b[0m\u001b[1;33m\u001b[0m\u001b[0m\n",
      "\u001b[1;32m<ipython-input-37-d1da17ccc7b4>\u001b[0m in \u001b[0;36mcov_columns\u001b[1;34m(mat, mat2)\u001b[0m\n\u001b[0;32m      5\u001b[0m     \u001b[1;32mfor\u001b[0m \u001b[0mi\u001b[0m \u001b[1;32min\u001b[0m \u001b[0mrange\u001b[0m\u001b[1;33m(\u001b[0m\u001b[1;36m0\u001b[0m\u001b[1;33m,\u001b[0m \u001b[0mx\u001b[0m\u001b[1;33m)\u001b[0m\u001b[1;33m:\u001b[0m\u001b[1;33m\u001b[0m\u001b[1;33m\u001b[0m\u001b[0m\n\u001b[0;32m      6\u001b[0m         \u001b[1;32mfor\u001b[0m \u001b[0mj\u001b[0m \u001b[1;32min\u001b[0m \u001b[0mrange\u001b[0m \u001b[1;33m(\u001b[0m\u001b[1;36m0\u001b[0m\u001b[1;33m,\u001b[0m \u001b[0mx\u001b[0m\u001b[1;33m)\u001b[0m\u001b[1;33m:\u001b[0m\u001b[1;33m\u001b[0m\u001b[1;33m\u001b[0m\u001b[0m\n\u001b[1;32m----> 7\u001b[1;33m             \u001b[0mcovvmat\u001b[0m\u001b[1;33m[\u001b[0m\u001b[0mi\u001b[0m\u001b[1;33m,\u001b[0m\u001b[0mj\u001b[0m\u001b[1;33m]\u001b[0m \u001b[1;33m=\u001b[0m \u001b[0mc\u001b[0m \u001b[1;33m*\u001b[0m \u001b[0mnp\u001b[0m\u001b[1;33m.\u001b[0m\u001b[0mdot\u001b[0m\u001b[1;33m(\u001b[0m\u001b[1;33m(\u001b[0m\u001b[0mmat\u001b[0m\u001b[1;33m[\u001b[0m\u001b[1;33m:\u001b[0m\u001b[1;33m,\u001b[0m\u001b[0mi\u001b[0m\u001b[1;33m]\u001b[0m \u001b[1;33m-\u001b[0m \u001b[0mnp\u001b[0m\u001b[1;33m.\u001b[0m\u001b[0mmean\u001b[0m\u001b[1;33m(\u001b[0m\u001b[0mmat2\u001b[0m\u001b[1;33m[\u001b[0m\u001b[1;33m:\u001b[0m\u001b[1;33m,\u001b[0m\u001b[0mi\u001b[0m\u001b[1;33m]\u001b[0m\u001b[1;33m)\u001b[0m\u001b[1;33m)\u001b[0m \u001b[1;33m,\u001b[0m \u001b[1;33m(\u001b[0m\u001b[0mmat\u001b[0m\u001b[1;33m[\u001b[0m\u001b[1;33m:\u001b[0m\u001b[1;33m,\u001b[0m\u001b[0mj\u001b[0m\u001b[1;33m]\u001b[0m \u001b[1;33m-\u001b[0m \u001b[0mnp\u001b[0m\u001b[1;33m.\u001b[0m\u001b[0mmean\u001b[0m\u001b[1;33m(\u001b[0m\u001b[0mmat2\u001b[0m\u001b[1;33m[\u001b[0m\u001b[1;33m:\u001b[0m\u001b[1;33m,\u001b[0m\u001b[0mj\u001b[0m\u001b[1;33m]\u001b[0m\u001b[1;33m)\u001b[0m\u001b[1;33m)\u001b[0m\u001b[1;33m)\u001b[0m\u001b[1;33m\u001b[0m\u001b[1;33m\u001b[0m\u001b[0m\n\u001b[0m\u001b[0;32m      8\u001b[0m \u001b[1;33m\u001b[0m\u001b[0m\n\u001b[0;32m      9\u001b[0m     \u001b[1;32mreturn\u001b[0m \u001b[0mcovvmat\u001b[0m\u001b[1;33m\u001b[0m\u001b[1;33m\u001b[0m\u001b[0m\n",
      "\u001b[1;32m<__array_function__ internals>\u001b[0m in \u001b[0;36mmean\u001b[1;34m(*args, **kwargs)\u001b[0m\n",
      "\u001b[1;32mc:\\users\\emma kray\\appdata\\local\\programs\\python\\python39\\lib\\site-packages\\numpy\\core\\fromnumeric.py\u001b[0m in \u001b[0;36mmean\u001b[1;34m(a, axis, dtype, out, keepdims, where)\u001b[0m\n\u001b[0;32m   3417\u001b[0m             \u001b[1;32mreturn\u001b[0m \u001b[0mmean\u001b[0m\u001b[1;33m(\u001b[0m\u001b[0maxis\u001b[0m\u001b[1;33m=\u001b[0m\u001b[0maxis\u001b[0m\u001b[1;33m,\u001b[0m \u001b[0mdtype\u001b[0m\u001b[1;33m=\u001b[0m\u001b[0mdtype\u001b[0m\u001b[1;33m,\u001b[0m \u001b[0mout\u001b[0m\u001b[1;33m=\u001b[0m\u001b[0mout\u001b[0m\u001b[1;33m,\u001b[0m \u001b[1;33m**\u001b[0m\u001b[0mkwargs\u001b[0m\u001b[1;33m)\u001b[0m\u001b[1;33m\u001b[0m\u001b[1;33m\u001b[0m\u001b[0m\n\u001b[0;32m   3418\u001b[0m \u001b[1;33m\u001b[0m\u001b[0m\n\u001b[1;32m-> 3419\u001b[1;33m     return _methods._mean(a, axis=axis, dtype=dtype,\n\u001b[0m\u001b[0;32m   3420\u001b[0m                           out=out, **kwargs)\n\u001b[0;32m   3421\u001b[0m \u001b[1;33m\u001b[0m\u001b[0m\n",
      "\u001b[1;32mc:\\users\\emma kray\\appdata\\local\\programs\\python\\python39\\lib\\site-packages\\numpy\\core\\_methods.py\u001b[0m in \u001b[0;36m_mean\u001b[1;34m(a, axis, dtype, out, keepdims, where)\u001b[0m\n\u001b[0;32m    176\u001b[0m             \u001b[0mis_float16_result\u001b[0m \u001b[1;33m=\u001b[0m \u001b[1;32mTrue\u001b[0m\u001b[1;33m\u001b[0m\u001b[1;33m\u001b[0m\u001b[0m\n\u001b[0;32m    177\u001b[0m \u001b[1;33m\u001b[0m\u001b[0m\n\u001b[1;32m--> 178\u001b[1;33m     \u001b[0mret\u001b[0m \u001b[1;33m=\u001b[0m \u001b[0mumr_sum\u001b[0m\u001b[1;33m(\u001b[0m\u001b[0marr\u001b[0m\u001b[1;33m,\u001b[0m \u001b[0maxis\u001b[0m\u001b[1;33m,\u001b[0m \u001b[0mdtype\u001b[0m\u001b[1;33m,\u001b[0m \u001b[0mout\u001b[0m\u001b[1;33m,\u001b[0m \u001b[0mkeepdims\u001b[0m\u001b[1;33m,\u001b[0m \u001b[0mwhere\u001b[0m\u001b[1;33m=\u001b[0m\u001b[0mwhere\u001b[0m\u001b[1;33m)\u001b[0m\u001b[1;33m\u001b[0m\u001b[1;33m\u001b[0m\u001b[0m\n\u001b[0m\u001b[0;32m    179\u001b[0m     \u001b[1;32mif\u001b[0m \u001b[0misinstance\u001b[0m\u001b[1;33m(\u001b[0m\u001b[0mret\u001b[0m\u001b[1;33m,\u001b[0m \u001b[0mmu\u001b[0m\u001b[1;33m.\u001b[0m\u001b[0mndarray\u001b[0m\u001b[1;33m)\u001b[0m\u001b[1;33m:\u001b[0m\u001b[1;33m\u001b[0m\u001b[1;33m\u001b[0m\u001b[0m\n\u001b[0;32m    180\u001b[0m         ret = um.true_divide(\n",
      "\u001b[1;31mKeyboardInterrupt\u001b[0m: "
     ]
    }
   ],
   "source": [
    "import numpy as np\n",
    "import pickle\n",
    "from functions.Load_data import load_the_pickle\n",
    "from functions.PCA import PCA_func\n",
    "from functions.KNN_predict import knn\n",
    "#from functions.Standardize import center\n",
    "#from functions.Standardize import center_test_values\n",
    "\n",
    "# select number of principle components and k:\n",
    "number_of_pcs = 45\n",
    "k = 6\n",
    "\n",
    "# loading data:\n",
    "train_labels, train_values = load_the_pickle('data/train_points.p')\n",
    "test_labels, test_values = load_the_pickle('data/test_points.p')\n",
    "\n",
    "\n",
    "# PCA and standardization:\n",
    "train_values_centered, train_mean = center(train_values)\n",
    "train_values_pca, train_evs = PCA_func_mod(train_values_centered, train_mean, number_of_pcs)\n",
    "\n",
    "test_values_centered, test_mean = center_test_values(test_values, train_values)\n",
    "test_values_pca, _ = PCA_func_mod(test_values_centered,test_mean, number_of_pcs, train_evs=train_evs)\n",
    "\n",
    "# kNN:\n",
    "hit = 0\n",
    "miss = 0\n",
    "\n",
    "for i in range(10):\n",
    "    sample = i\n",
    "    predicted_value = knn(trainvalues_pca=train_values_pca, X=test_values_pca[sample, :], trainlabels=train_labels, k=k)\n",
    "    labeled_value = test_labels[sample]\n",
    "    if predicted_value == labeled_value:\n",
    "        hit += 1\n",
    "    else:\n",
    "        miss += 1\n",
    "print(hit, 'vs', miss)"
   ]
  },
  {
   "cell_type": "markdown",
   "id": "41bcb90c",
   "metadata": {},
   "source": [
    "### Standardization experimentation below:"
   ]
  },
  {
   "cell_type": "code",
   "execution_count": 36,
   "id": "bd61b476",
   "metadata": {},
   "outputs": [],
   "source": [
    "def corr_columns(mat):\n",
    "    x = len(mat[0])\n",
    "    c = (1/(x))\n",
    "    corrmat = np.zeros((x, x))\n",
    "    for i in range(0, x):\n",
    "        for j in range (0, x):\n",
    "            corrmat[i,j] = c * np.dot(((mat[:,i] - np.mean(mat[:,i]))/ np.std(mat[:,i])) , ((mat[:,j] - np.mean(mat[:,j]))/ np.std(mat[:,j])))\n",
    "        \n",
    "    return corrmat"
   ]
  },
  {
   "cell_type": "code",
   "execution_count": 37,
   "id": "e1991d57",
   "metadata": {},
   "outputs": [],
   "source": [
    "def cov_columns(mat, mat2):\n",
    "    x = len(mat2[0])\n",
    "    c = (1/(x-1)) \n",
    "    covvmat = np.zeros((x, x))\n",
    "    for i in range(0, x):\n",
    "        for j in range (0, x):\n",
    "            covvmat[i,j] = c * np.dot((mat[:,i] - np.mean(mat2[:,i])) , (mat[:,j] - np.mean(mat2[:,j])))\n",
    "        \n",
    "    return covvmat"
   ]
  },
  {
   "cell_type": "code",
   "execution_count": 27,
   "id": "6a24fc34",
   "metadata": {},
   "outputs": [
    {
     "name": "stdout",
     "output_type": "stream",
     "text": [
      "[[ 1.         -0.83862787  0.96076892]\n",
      " [-0.83862787  1.         -0.65465367]\n",
      " [ 0.96076892 -0.65465367  1.        ]]\n",
      "[[ 1.         -0.83862787  0.96076892]\n",
      " [-0.83862787  1.         -0.65465367]\n",
      " [ 0.96076892 -0.65465367  1.        ]]\n",
      "[[30.33333333 -5.33333333 14.        ]\n",
      " [-5.33333333  1.33333333 -2.        ]\n",
      " [14.         -2.          7.        ]]\n",
      "[[30.33333333 -5.33333333 14.        ]\n",
      " [-5.33333333  1.33333333 -2.        ]\n",
      " [14.         -2.          7.        ]]\n"
     ]
    }
   ],
   "source": [
    "# np.corrcoef uses \"1/N\" and np.cov uses \"1/(N-1)\"\n",
    "mat_a = np.array([[1,2,3],[12,0,8], [6,0,4]])\n",
    "print(corr_columns(mat_a))\n",
    "print(np.corrcoef(mat_a, rowvar = False))\n",
    "print(cov_columns(mat_a))\n",
    "print(np.cov(mat_a, rowvar = 0))"
   ]
  }
 ],
 "metadata": {
  "kernelspec": {
   "display_name": "Python 3",
   "language": "python",
   "name": "python3"
  },
  "language_info": {
   "codemirror_mode": {
    "name": "ipython",
    "version": 3
   },
   "file_extension": ".py",
   "mimetype": "text/x-python",
   "name": "python",
   "nbconvert_exporter": "python",
   "pygments_lexer": "ipython3",
   "version": "3.9.4"
  }
 },
 "nbformat": 4,
 "nbformat_minor": 5
}
