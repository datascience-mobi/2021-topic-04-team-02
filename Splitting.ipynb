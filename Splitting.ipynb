{
 "cells": [
  {
   "cell_type": "markdown",
   "id": "25028f69",
   "metadata": {},
   "source": [
    "Ok so here's what I tried:\n",
    "- put code for centered cov matrix into a function: 'center' (the function can also output a correlation matrix)\n",
    "- the output is the cov matrix and also the rescaled Matrix\n",
    "- the input for 'PCA' is changed to the outputs of 'center'\n",
    "- instead of 'train_mean = None': 'center_test_values' (not happy with 2 very similar functions, will fix into 1 func 'center')\n",
    "\n",
    "Advantages:\n",
    "- seperate modules\n",
    "- compare effects of corr mat vs cov mat (both work well so far!)\n",
    "\n",
    "Disadvantages:\n",
    "- less elegant (so far)\n",
    "\n",
    "Thoughts and struggles and to do:\n",
    "- correlation makes more sense here to me... ähnlicher Inhalt, mehr normalisiert. Sinnvoller auch wenn es wenig Unterschied für das Programm macht\n",
    "- np.cov and np.corrcoef are kinda sus: I've written my own correlation function that works the same but np.cov is strange (see bottom of this doc!)\n",
    "- \n",
    "- Why X-mean??? Doesnt cov do that 4 u? Using just cov gives similar results????? But the matrices are different! it should be redundant? but its not...\n",
    "- test center function is still missing corr bit\n",
    "- messy amount of variables in final code block"
   ]
  },
  {
   "cell_type": "code",
   "execution_count": 5,
   "id": "38fa2fa8",
   "metadata": {},
   "outputs": [],
   "source": [
    "def center(X, scale = False):\n",
    "    mean = np.mean(X, axis = 0)\n",
    "    X_mean = X - mean\n",
    "    cov_mat = np.cov(X_mean, rowvar = 0)\n",
    "    # c_mat = cov_mat\n",
    "    if scale:\n",
    "        corr_mat = np.corrcoef(X_mean, rowvar=False)\n",
    "        corr_mat[np.isnan(corr_mat)] = cov_mat[np.isnan(corr_mat)] # or replace with 0???\n",
    "        # c_mat = corr_mat\n",
    "    return cov_mat if scale == False else corr_mat, X_mean\n",
    "\n",
    "def center_test_values(X, Y):\n",
    "    mean = np.mean(Y, axis =0)\n",
    "    X_mean = X - mean\n",
    "    cov_mat = np.cov(X_mean, rowvar = 0)\n",
    "    return cov_mat, X_mean"
   ]
  },
  {
   "cell_type": "code",
   "execution_count": 6,
   "id": "e6d8b38e",
   "metadata": {},
   "outputs": [],
   "source": [
    "def PCA_func_mod(centered_x, X_mean, num_components, train_evs = None):\n",
    "    # eigen values\n",
    "    eigen_values, eigen_vectors = np.linalg.eigh(centered_x)\n",
    "    # eigenvectors\n",
    "    sorted_index = np.argsort(eigen_values)[::-1]\n",
    "    sorted_eigenvalue = eigen_values[sorted_index]\n",
    "    sorted_eigenvectors = eigen_vectors[:, sorted_index]\n",
    "    # subset\n",
    "    eigenvector_subset = sorted_eigenvectors[:, 0:num_components]\n",
    "    # if we want to use the PCA that has been trained on the train set for the test set,\n",
    "    # we want to use the eigenvector subset that has been calculated on the train set for classification\n",
    "    # on the test set:\n",
    "    if train_evs is not None:\n",
    "        eigenvector_subset = train_evs\n",
    "    X_reduced = np.dot(X_mean, eigenvector_subset)\n",
    "    # we return X_reduced (the input reduced to num_components PCA),\n",
    "    # the mean and the eigenvector subset (if we run the function for training, we need these for testing)\n",
    "    return X_reduced, eigenvector_subset"
   ]
  },
  {
   "cell_type": "markdown",
   "id": "0509fd2e",
   "metadata": {},
   "source": [
    "## executable final project:"
   ]
  },
  {
   "cell_type": "code",
   "execution_count": 7,
   "id": "50cbfd0e",
   "metadata": {},
   "outputs": [
    {
     "name": "stdout",
     "output_type": "stream",
     "text": [
      "99 vs 1\n"
     ]
    }
   ],
   "source": [
    "import numpy as np\n",
    "import pickle\n",
    "from functions.Load_data import load_the_pickle\n",
    "from functions.PCA import PCA_func\n",
    "from functions.KNN_predict import knn\n",
    "#from functions.Standardize import center\n",
    "#from functions.Standardize import center_test_values\n",
    "\n",
    "# select number of principle components and k:\n",
    "number_of_pcs = 45\n",
    "k = 6\n",
    "\n",
    "# loading data:\n",
    "train_labels, train_values = load_the_pickle('data/train_points.p')\n",
    "test_labels, test_values = load_the_pickle('data/test_points.p')\n",
    "\n",
    "\n",
    "# PCA and standardization:\n",
    "train_values_centered, train_mean = center(train_values)\n",
    "train_values_pca, train_evs = PCA_func_mod(train_values_centered, train_mean, number_of_pcs)\n",
    "\n",
    "test_values_centered, test_mean = center_test_values(test_values, train_values)\n",
    "test_values_pca, _ = PCA_func_mod(test_values_centered,test_mean, number_of_pcs, train_evs=train_evs)\n",
    "\n",
    "# kNN:\n",
    "hit = 0\n",
    "miss = 0\n",
    "\n",
    "for i in range(100):\n",
    "    sample = i\n",
    "    predicted_value = knn(trainvalues_pca=train_values_pca, X=test_values_pca[sample, :], trainlabels=train_labels, k=k)\n",
    "    labeled_value = test_labels[sample]\n",
    "    if predicted_value == labeled_value:\n",
    "        hit += 1\n",
    "    else:\n",
    "        miss += 1\n",
    "print(hit, 'vs', miss)"
   ]
  },
  {
   "cell_type": "markdown",
   "id": "ab4dea62",
   "metadata": {},
   "source": [
    "### Standardization experimentation below:"
   ]
  },
  {
   "cell_type": "code",
   "execution_count": 8,
   "id": "cbbf9f0e",
   "metadata": {},
   "outputs": [],
   "source": [
    "def corr_columns(mat):\n",
    "    x = len(mat)\n",
    "    c = (1/(x))\n",
    "    corrmat = np.zeros((x, x))\n",
    "    for i in range(0, x):\n",
    "        for j in range (0, x):\n",
    "            corrmat[i,j] = c * np.dot(((mat[:,i] - np.mean(mat[:,i]))/ np.std(mat[:,i])) , ((mat[:,j] - np.mean(mat[:,j]))/ np.std(mat[:,j])))\n",
    "        \n",
    "    return corrmat"
   ]
  },
  {
   "cell_type": "code",
   "execution_count": 9,
   "id": "c6f14f21",
   "metadata": {},
   "outputs": [],
   "source": [
    "def covv_columns(mat):\n",
    "    x = len(mat)\n",
    "    c = (1/(x))\n",
    "    covvmat = np.zeros((x, x))\n",
    "    for i in range(0, x):\n",
    "        for j in range (0, x):\n",
    "            covvmat[i,j] = c * np.dot((mat[:,i] - np.mean(mat[:,i])) , (mat[:,j] - np.mean(mat[:,j])))\n",
    "        \n",
    "    return covvmat"
   ]
  },
  {
   "cell_type": "code",
   "execution_count": 12,
   "id": "9ec67483",
   "metadata": {},
   "outputs": [
    {
     "name": "stdout",
     "output_type": "stream",
     "text": [
      "[[ 1. nan  1.]\n",
      " [nan nan nan]\n",
      " [ 1. nan  1.]]\n",
      "[[ 1. nan  1.]\n",
      " [nan nan nan]\n",
      " [ 1. nan  1.]]\n"
     ]
    },
    {
     "name": "stderr",
     "output_type": "stream",
     "text": [
      "<ipython-input-8-b4f8e44b1017>:7: RuntimeWarning: invalid value encountered in true_divide\n",
      "  corrmat[i,j] = c * np.dot(((mat[:,i] - np.mean(mat[:,i]))/ np.std(mat[:,i])) , ((mat[:,j] - np.mean(mat[:,j]))/ np.std(mat[:,j])))\n"
     ]
    }
   ],
   "source": [
    "print(corr_columns(np.array([[12,0,8],[12,0,8], [6,0,4]])))\n",
    "print(np.corrcoef(np.array([[12,0,8],[12,0,8], [6,0,4]]), rowvar = False))"
   ]
  }
 ],
 "metadata": {
  "kernelspec": {
   "display_name": "Python 3",
   "language": "python",
   "name": "python3"
  },
  "language_info": {
   "codemirror_mode": {
    "name": "ipython",
    "version": 3
   },
   "file_extension": ".py",
   "mimetype": "text/x-python",
   "name": "python",
   "nbconvert_exporter": "python",
   "pygments_lexer": "ipython3",
   "version": "3.9.4"
  }
 },
 "nbformat": 4,
 "nbformat_minor": 5
}