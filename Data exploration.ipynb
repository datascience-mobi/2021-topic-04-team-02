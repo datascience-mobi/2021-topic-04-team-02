{
 "cells": [
  {
   "cell_type": "code",
   "execution_count": 33,
   "metadata": {
    "collapsed": true
   },
   "outputs": [
    {
     "name": "stdout",
     "output_type": "stream",
     "text": [
      "hallo maxi\n"
     ]
    }
   ],
   "source": [
    "import numpy as np\n",
    "np.genfromtxt('data/mnist_test.csv',delimiter=',')"
   ]
  },
  {
   "cell_type": "code",
   "execution_count": null,
   "outputs": [],
   "source": [
    "# laden der Daten + Trennen in Labels und vlaues\n",
    "import seaborn as sns\n",
    "images = numpy.loadtxt('data/mnist_train.csv',  delimiter=',')\n",
    "\n",
    "print(images.shape)\n",
    "\n",
    "labels = images[:,0]\n",
    "values = images[:,1:]\n",
    "#plotten der labels\n",
    "sns.countplot(labels, color = sns.color_palette()[0]);"
   ],
   "metadata": {
    "collapsed": false,
    "pycharm": {
     "name": "#%%",
     "is_executing": true
    }
   }
  },
  {
   "cell_type": "code",
   "execution_count": null,
   "outputs": [],
   "source": [],
   "metadata": {
    "collapsed": false,
    "pycharm": {
     "name": "#%%\n",
     "is_executing": true
    }
   }
  }
 ],
 "metadata": {
  "kernelspec": {
   "display_name": "Python 3",
   "language": "python",
   "name": "python3"
  },
  "language_info": {
   "codemirror_mode": {
    "name": "ipython",
    "version": 2
   },
   "file_extension": ".py",
   "mimetype": "text/x-python",
   "name": "python",
   "nbconvert_exporter": "python",
   "pygments_lexer": "ipython2",
   "version": "2.7.6"
  }
 },
 "nbformat": 4,
 "nbformat_minor": 0
}