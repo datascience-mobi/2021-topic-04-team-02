{
 "cells": [
  {
   "cell_type": "code",
   "execution_count": 23,
   "outputs": [
    {
     "name": "stderr",
     "output_type": "stream",
     "text": [
      "c:\\users\\jojo3\\.conda\\envs\\2021-topic-04-team-02\\lib\\site-packages\\seaborn\\_decorators.py:36: FutureWarning: Pass the following variable as a keyword arg: x. From version 0.12, the only valid positional argument will be `data`, and passing other arguments without an explicit keyword will result in an error or misinterpretation.\n",
      "  warnings.warn(\n"
     ]
    },
    {
     "data": {
      "text/plain": "<Figure size 432x288 with 1 Axes>",
      "image/png": "[encoded data removed]"
     },
     "metadata": {
      "needs_background": "light"
     },
     "output_type": "display_data"
    }
   ],
   "source": [
    "import seaborn as sns\n",
    "import pickle\n",
    "with open('data/train_points.p', 'rb') as f:\n",
    "    X = pickle.load(f)\n",
    "labels = X[:,0]\n",
    "values = X[:,1:]\n",
    "sns.countplot(labels, color = sns.color_palette()[0]);"
   ],
   "metadata": {
    "collapsed": false,
    "pycharm": {
     "name": "#%%\n"
    }
   }
  },
  {
   "cell_type": "code",
   "execution_count": 47,
   "outputs": [
    {
     "data": {
      "text/plain": "(9999, 784)"
     },
     "execution_count": 47,
     "metadata": {},
     "output_type": "execute_result"
    }
   ],
   "source": [
    "with open('data/test_points.p', 'rb') as f:\n",
    "    Y = pickle.load(f)\n",
    "testvalues = Y[:,1:]\n",
    "testlabels = Y[:,0]\n",
    "testvalues.shape"
   ],
   "metadata": {
    "collapsed": false,
    "pycharm": {
     "name": "#%%\n"
    }
   }
  },
  {
   "cell_type": "markdown",
   "source": [
    "![pickleUrl](https://media1.tenor.com/images/1756eb5631ade0eb64d57d256a5847f2/tenor.gif)"
   ],
   "metadata": {
    "collapsed": false
   }
  },
  {
   "cell_type": "code",
   "execution_count": 38,
   "outputs": [],
   "source": [
    "from scipy.stats import mode\n",
    "k=100\n",
    "def predict(x):\n",
    "    differences = (values - x)\n",
    "    distances = np.einsum('ij, ij->i', differences, differences)\n",
    "    nearest = labels[np.argsort(distances)[:k]]\n",
    "    return mode(nearest)[0][0]"
   ],
   "metadata": {
    "collapsed": false,
    "pycharm": {
     "name": "#%%\n"
    }
   }
  },
  {
   "cell_type": "code",
   "execution_count": 62,
   "outputs": [
    {
     "name": "stdout",
     "output_type": "stream",
     "text": [
      "0 vs 0\n"
     ]
    }
   ],
   "source": [
    "sample = 100\n",
    "predicted_value = predict(x=testvalues[sample,:])\n",
    "labeled_value = testlabels[sample]\n",
    "print(predicted_value, 'vs', labeled_value)"
   ],
   "metadata": {
    "collapsed": false,
    "pycharm": {
     "name": "#%%\n"
    }
   }
  },
  {
   "cell_type": "code",
   "execution_count": 10,
   "outputs": [
    {
     "data": {
      "text/plain": "<Figure size 432x288 with 1 Axes>",
      "image/png": "[encoded data removed]"
     },
     "metadata": {
      "needs_background": "light"
     },
     "output_type": "display_data"
    }
   ],
   "source": [
    "from matplotlib import pyplot as plt\n",
    "import numpy as np\n",
    "import pickle\n",
    "from sklearn.decomposition import PCA\n",
    "from sklearn.preprocessing import StandardScaler\n",
    "from scipy.stats import mode\n",
    "def I_turned_myself_into_a_pickle_morty(data,new_data_location):\n",
    "    X = np.genfromtxt(data, delimiter=',').astype(np.dtype('uint8'))\n",
    "    with open(new_data_location, 'wb') as f:\n",
    "        pickle.dump(X, f)\n",
    "    ...\n",
    "    with open(new_data_location, 'rb') as f:\n",
    "        X = pickle.load(f)\n",
    "def do_pca(n_components, data): #does pca + data standardization I think?\n",
    "    X = StandardScaler().fit_transform(data)\n",
    "    pca = PCA(n_components)\n",
    "    X_pca = pca.fit_transform(X)\n",
    "    return pca, X_pca\n",
    "def load_the_training_pickle(pickleddata):\n",
    "    with open(pickleddata, 'rb') as f:\n",
    "        X = pickle.load(f)\n",
    "    global trainlabels\n",
    "    trainlabels = X[:,0]\n",
    "    global trainvalues\n",
    "    trainvalues = X[:,1:]\n",
    "def load_the_testing_pickle(pickleddata):\n",
    "    with open(pickleddata, 'rb') as f:\n",
    "        Y = pickle.load(f)\n",
    "    global testvalues\n",
    "    testvalues = Y[:,1:]\n",
    "    global testlabels\n",
    "    testlabels = Y[:,0]\n",
    "def predict(x):\n",
    "    differences = (trainvalues_pca - x)\n",
    "    distances = np.einsum('ij, ij->i', differences, differences)\n",
    "    nearest = trainlabels[np.argsort(distances)[:k]]\n",
    "    return mode(nearest)[0][0]\n",
    "\n",
    "#K + Anzahl der Hauptkomponenten festlegen:\n",
    "number_of_pcs = 59\n",
    "k=105\n",
    "hit = 0\n",
    "miss = 0\n",
    "\n",
    "load_the_training_pickle('data/train_points.p')\n",
    "load_the_testing_pickle('data/test_points.p')\n",
    "hits_per_pcn = []\n",
    "for r in range(1,30):\n",
    "    hit = 0\n",
    "    pca, testvalues_pca = do_pca(r,testvalues)\n",
    "    pca, trainvalues_pca = do_pca(r,trainvalues)\n",
    "    for i in range(2500,2750): #PCA helps a lot\n",
    "        sample = i\n",
    "        predicted_value = predict(x=testvalues_pca[sample,:])\n",
    "        labeled_value = testlabels[sample]\n",
    "        if predicted_value == labeled_value:\n",
    "            hit +=1\n",
    "    hits_per_pcn.append(hit)\n",
    "plt.plot(hits_per_pcn)\n",
    "plt.show()"
   ],
   "metadata": {
    "collapsed": false,
    "pycharm": {
     "name": "#%%\n"
    }
   }
  }
 ],
 "metadata": {
  "kernelspec": {
   "display_name": "Python 3",
   "language": "python",
   "name": "python3"
  },
  "language_info": {
   "codemirror_mode": {
    "name": "ipython",
    "version": 2
   },
   "file_extension": ".py",
   "mimetype": "text/x-python",
   "name": "python",
   "nbconvert_exporter": "python",
   "pygments_lexer": "ipython2",
   "version": "2.7.6"
  }
 },
 "nbformat": 4,
 "nbformat_minor": 0
}