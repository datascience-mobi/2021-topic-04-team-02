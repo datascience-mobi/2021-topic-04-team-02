{
 "cells": [
  {
   "cell_type": "code",
   "execution_count": 3,
   "metadata": {
    "collapsed": true
   },
   "outputs": [
    {
     "data": {
      "text/plain": "array([[nan, nan, nan, ..., nan, nan, nan],\n       [ 7.,  0.,  0., ...,  0.,  0.,  0.],\n       [ 2.,  0.,  0., ...,  0.,  0.,  0.],\n       ...,\n       [ 4.,  0.,  0., ...,  0.,  0.,  0.],\n       [ 5.,  0.,  0., ...,  0.,  0.,  0.],\n       [ 6.,  0.,  0., ...,  0.,  0.,  0.]])"
     },
     "execution_count": 3,
     "metadata": {},
     "output_type": "execute_result"
    }
   ],
   "source": [
    "import numpy as np\n",
    "np.genfromtxt('mnist_test.csv',delimiter=',')"
   ]
  },
  {
   "cell_type": "code",
   "execution_count": null,
   "outputs": [],
   "source": [],
   "metadata": {
    "collapsed": false,
    "pycharm": {
     "name": "#%%"
    }
   }
  }
 ],
 "metadata": {
  "kernelspec": {
   "display_name": "Python 3",
   "language": "python",
   "name": "python3"
  },
  "language_info": {
   "codemirror_mode": {
    "name": "ipython",
    "version": 2
   },
   "file_extension": ".py",
   "mimetype": "text/x-python",
   "name": "python",
   "nbconvert_exporter": "python",
   "pygments_lexer": "ipython2",
   "version": "2.7.6"
  }
 },
 "nbformat": 4,
 "nbformat_minor": 0
}