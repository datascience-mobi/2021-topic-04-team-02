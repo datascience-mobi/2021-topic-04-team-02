{
 "cells": [
  {
   "cell_type": "code",
   "execution_count": 82,
   "id": "35921c82",
   "metadata": {},
   "outputs": [],
   "source": [
    "import time\n",
    "import numpy as np\n",
    "import pickle\n",
    "import matplotlib.pyplot as plt\n",
    "from functions.Load_data import load_the_pickle\n",
    "from functions.PCA import PCA_func\n",
    "from functions.KNN_predict import *"
   ]
  },
  {
   "cell_type": "code",
   "execution_count": 2,
   "id": "9e714cf5",
   "metadata": {},
   "outputs": [],
   "source": [
    "def cov_mod(m, n, rowvar=True):\n",
    "    \"\"\"\n",
    "    Gives the covariance matrix of m using the mean values of n.\n",
    "    Derived from np.cov.\n",
    "    Parameters\n",
    "    ----------\n",
    "    m : array\n",
    "        Each row of `m` represents a variable, and each column a single\n",
    "        observation of the variables.\n",
    "    n : array\n",
    "        Must have same number of variables as m.\n",
    "    rowvar : bool, optional\n",
    "        If `rowvar` is True (default), then arrays transposed so each row represents a\n",
    "        variable, with observations in the columns. If false then not transposed.\n",
    "    Returns\n",
    "    -------\n",
    "    out : ndarray\n",
    "        The covariance matrix of the variables.\n",
    "    \"\"\"\n",
    "    # Data type: double for higher precision\n",
    "    dtype = np.result_type(m, np.float64)\n",
    "\n",
    "    # Transpose matrices so that entries of each variable (pixel position) are in rows instead of columns\n",
    "    X = np.array(m, dtype=dtype)\n",
    "    X2 = np.array(n, dtype=dtype)\n",
    "    if rowvar:\n",
    "        X = X.T\n",
    "        X2 = X2.T\n",
    "\n",
    "    # Averages taken from second (training) array\n",
    "    avg = np.mean(X2, axis=1)\n",
    "    # unweighted, axis=1 means mean calculated over rows\n",
    "\n",
    "    # N-1 calculated:\n",
    "    N_1 = X.shape[1] - 1\n",
    "\n",
    "    # Averages subtracted:\n",
    "    X = X - avg[:, None]\n",
    "    # None adds another dimension so that subtraction is row-wise\n",
    "\n",
    "    # Skalarprodukt\n",
    "    X_T = X.T\n",
    "    c = np.dot(X, X_T)\n",
    "\n",
    "    # Multiplied by 1/(N-1)\n",
    "    c = c * np.true_divide(1, N_1)\n",
    "    # Squeeze removes unnecessary dimensions\n",
    "    return c.squeeze()"
   ]
  },
  {
   "cell_type": "code",
   "execution_count": 72,
   "id": "e210a42e",
   "metadata": {},
   "outputs": [],
   "source": [
    "def center(X, Y, scale=False):\n",
    "    \"\"\"\n",
    "    Returns covariance matrix or correlation matrix of X. Mean and standard deviation of Y are used to center/ scale.\n",
    "    Parameters\n",
    "    -------\n",
    "    X: array\n",
    "        Array of data to be centered and scaled.\n",
    "    Y: array\n",
    "        If no array is given then X is standardized with own values (training data).\n",
    "        Test values are standardized using the mean and standard deviation of the training data.\n",
    "    scale: bool\n",
    "        If False (default) covariance matrix as output. If true then correlation matrix.\n",
    "    \"\"\"\n",
    "    if Y == \"None\":\n",
    "        # there must be a nicer way to do this\n",
    "        mean = np.mean(X, axis=0)\n",
    "        Y = X\n",
    "    else:\n",
    "        mean = np.mean(Y, axis=0)\n",
    "    X_mean = X - mean\n",
    "    c_mat = cov_mod(X, Y)\n",
    "    if scale:\n",
    "        d = np.diag(c_mat)\n",
    "        std_dev = np.sqrt(d)\n",
    "        c_mat = c_mat / std_dev[:, None]\n",
    "        c_mat = c_mat / std_dev[None, :]\n",
    "        \n",
    "        c_mat = c_mat[~np.isnan(c_mat).all(axis=1), :]\n",
    "        c_mat = c_mat[:, ~np.isnan(c_mat).any(axis=0)]\n",
    "        \n",
    "        X_mean = X_mean[:, ~np.any(X_mean == 0, axis=0)]\n",
    "    return c_mat, X_mean"
   ]
  },
  {
   "cell_type": "code",
   "execution_count": 102,
   "id": "2ae05924",
   "metadata": {},
   "outputs": [
    {
     "name": "stderr",
     "output_type": "stream",
     "text": [
      "<ipython-input-72-8997988528ff>:25: RuntimeWarning: invalid value encountered in true_divide\n",
      "  c_mat = c_mat / std_dev[:, None]\n",
      "<ipython-input-72-8997988528ff>:26: RuntimeWarning: invalid value encountered in true_divide\n",
      "  c_mat = c_mat / std_dev[None, :]\n",
      "<ipython-input-72-8997988528ff>:14: FutureWarning: elementwise comparison failed; returning scalar instead, but in the future will perform elementwise comparison\n",
      "  if Y == \"None\":\n"
     ]
    },
    {
     "name": "stdout",
     "output_type": "stream",
     "text": [
      "9722 vs 278\n"
     ]
    }
   ],
   "source": [
    "# demo version of code with fewer digits to experiment with concepts\n",
    "\n",
    "# select number of principle components and k:\n",
    "number_of_pcs = 45\n",
    "k = 6\n",
    "\n",
    "# loading data:\n",
    "train_labels, train_values = load_the_pickle('data/train_points.p')\n",
    "test_labels, test_values = load_the_pickle('data/test_points.p')\n",
    "\n",
    "# standardization and PCA:\n",
    "train_values_centered, train_mean = center(train_values, Y=\"None\", scale= True)\n",
    "train_values_pca, train_evs = PCA_func(train_values_centered, train_mean, number_of_pcs)\n",
    "\n",
    "test_values_centered, test_mean = center(test_values, Y=train_values, scale = True)\n",
    "test_values_pca, _ = PCA_func(test_values_centered,test_mean, number_of_pcs, train_evs=train_evs)\n",
    "\n",
    "# kNN:\n",
    "hit = 0\n",
    "miss = 0\n",
    "miss_number = np.array([])\n",
    "\n",
    "for sample in range(10000):\n",
    "    predicted_value = knn(\"euclidean\",trainvalues_pca=train_values_pca, X=test_values_pca[sample,:], trainlabels=train_labels, k=k)\n",
    "    labeled_value = test_labels[sample]\n",
    "    if predicted_value == labeled_value:\n",
    "        hit += 1\n",
    "    else:\n",
    "        miss += 1\n",
    "        miss_number = np.append(miss_number, labeled_value)\n",
    "print(hit, 'vs', miss)\n",
    "\n",
    "# -> 960 vs 40 with scale True 9722 vs 278\n",
    "# -> 966 vs 34 with scale False 9739 vs 261"
   ]
  },
  {
   "cell_type": "code",
   "execution_count": 103,
   "id": "ec4fbeea",
   "metadata": {},
   "outputs": [
    {
     "name": "stdout",
     "output_type": "stream",
     "text": [
      "[4. 9. 3. 9. 8. 9. 2. 6. 7. 4. 3. 2. 6. 9. 3. 9. 8. 8. 3. 8. 2. 3. 2. 2.\n",
      " 7. 7. 4. 7. 4. 5. 8. 8. 2. 2. 3. 8. 5. 1. 3. 6. 5. 6. 7. 3. 8. 9. 4. 3.\n",
      " 7. 9. 7. 9. 9. 4. 9. 7. 4. 7. 8. 7. 7. 7. 8. 5. 5. 6. 7. 7. 8. 9. 9. 9.\n",
      " 7. 3. 9. 7. 8. 2. 8. 8. 9. 7. 7. 8. 5. 2. 7. 2. 8. 7. 7. 2. 3. 6. 5. 9.\n",
      " 4. 6. 8. 1. 9. 5. 9. 5. 9. 8. 9. 3. 6. 9. 4. 6. 2. 2. 6. 3. 9. 7. 9. 6.\n",
      " 4. 6. 8. 7. 8. 4. 3. 9. 3. 6. 9. 1. 5. 9. 8. 7. 9. 8. 7. 4. 3. 9. 5. 8.\n",
      " 8. 9. 9. 5. 7. 8. 2. 7. 7. 6. 5. 9. 4. 7. 9. 7. 0. 5. 8. 9. 9. 2. 9. 7.\n",
      " 2. 2. 9. 3. 9. 9. 3. 3. 2. 8. 9. 4. 8. 8. 7. 6. 3. 8. 9. 7. 8. 7. 8. 4.\n",
      " 7. 8. 3. 9. 9. 8. 7. 2. 4. 3. 5. 9. 7. 7. 4. 5. 3. 3. 5. 5. 5. 3. 3. 2.\n",
      " 5. 9. 9. 9. 9. 9. 9. 3. 9. 9. 9. 9. 7. 0. 5. 8. 0. 8. 4. 7. 4. 8. 3. 7.\n",
      " 8. 2. 2. 3. 3. 0. 8. 8. 4. 4. 7. 7. 7. 7. 4. 8. 9. 9. 3. 8. 0. 9. 3. 2.\n",
      " 4. 5. 5. 2. 2. 9. 2. 2. 2. 5. 2. 3. 3. 5.]\n"
     ]
    },
    {
     "data": {
      "image/png": "[encoded data removed]",
      "text/plain": [
       "<Figure size 432x288 with 1 Axes>"
      ]
     },
     "metadata": {
      "needs_background": "light"
     },
     "output_type": "display_data"
    }
   ],
   "source": [
    "scale_true_miss_numbers = miss_number\n",
    "plt.hist(scale_true_miss_numbers, bins= range(0,10))\n",
    "print(scale_true_miss_numbers)"
   ]
  },
  {
   "cell_type": "code",
   "execution_count": 101,
   "id": "3c3a184f",
   "metadata": {},
   "outputs": [
    {
     "name": "stdout",
     "output_type": "stream",
     "text": [
      "[4. 9. 9. 4. 4. 5. 6. 7. 3. 2. 6. 3. 8. 7. 8. 2. 2. 2. 2. 7. 7. 8. 4. 4.\n",
      " 8. 8. 8. 2. 3. 2. 8. 5. 1. 3. 5. 6. 7. 8. 9. 4. 9. 7. 9. 9. 4. 9. 7. 5.\n",
      " 5. 8. 3. 7. 5. 5. 9. 8. 4. 7. 7. 8. 9. 3. 3. 9. 7. 7. 5. 8. 2. 8. 8. 8.\n",
      " 9. 7. 7. 8. 5. 2. 5. 4. 2. 8. 7. 2. 3. 5. 9. 4. 6. 8. 8. 1. 5. 9. 2. 5.\n",
      " 9. 8. 9. 6. 9. 6. 2. 2. 6. 5. 7. 9. 6. 6. 8. 8. 4. 3. 9. 3. 9. 9. 8. 1.\n",
      " 5. 9. 8. 9. 7. 9. 4. 3. 9. 6. 5. 8. 9. 8. 5. 3. 7. 8. 7. 4. 2. 7. 0. 7.\n",
      " 6. 5. 9. 4. 7. 9. 7. 0. 5. 8. 9. 8. 9. 2. 1. 9. 2. 3. 3. 9. 7. 3. 2. 8.\n",
      " 9. 2. 3. 8. 8. 7. 6. 8. 8. 3. 3. 8. 9. 7. 4. 8. 7. 8. 7. 9. 1. 1. 8. 4.\n",
      " 4. 7. 3. 5. 7. 4. 7. 4. 5. 3. 3. 5. 3. 3. 2. 3. 9. 9. 9. 9. 9. 9. 3. 9.\n",
      " 7. 0. 5. 8. 0. 2. 8. 0. 3. 7. 4. 8. 3. 2. 4. 3. 0. 8. 4. 7. 7. 7. 7. 8.\n",
      " 3. 0. 9. 3. 2. 5. 5. 5. 2. 5. 2. 9. 2. 2. 2. 0. 5. 2. 3. 3. 5.]\n"
     ]
    },
    {
     "data": {
      "image/png": "[encoded data removed]",
      "text/plain": [
       "<Figure size 432x288 with 1 Axes>"
      ]
     },
     "metadata": {
      "needs_background": "light"
     },
     "output_type": "display_data"
    }
   ],
   "source": [
    "plt.hist(miss_number, bins = range(0,10))\n",
    "print(miss_number)"
   ]
  },
  {
   "cell_type": "code",
   "execution_count": 53,
   "id": "940c9c70",
   "metadata": {},
   "outputs": [],
   "source": [
    "m1 = np.array([[1,2,10],[1,3,2],[1,6,5]])\n",
    "m2 = np.array([[1,2,5],[1,2,9],[1,2,3]])"
   ]
  },
  {
   "cell_type": "code",
   "execution_count": 69,
   "id": "ae2be47a",
   "metadata": {},
   "outputs": [
    {
     "name": "stderr",
     "output_type": "stream",
     "text": [
      "<ipython-input-68-8997988528ff>:14: FutureWarning: elementwise comparison failed; returning scalar instead, but in the future will perform elementwise comparison\n",
      "  if Y == \"None\":\n",
      "<ipython-input-68-8997988528ff>:25: RuntimeWarning: invalid value encountered in true_divide\n",
      "  c_mat = c_mat / std_dev[:, None]\n",
      "<ipython-input-68-8997988528ff>:26: RuntimeWarning: invalid value encountered in true_divide\n",
      "  c_mat = c_mat / std_dev[None, :]\n"
     ]
    },
    {
     "data": {
      "text/plain": [
       "(array([[ 1.        , -0.26875433],\n",
       "        [-0.26875433,  1.        ]]),\n",
       " array([[ 4.33333333],\n",
       "        [-3.66666667],\n",
       "        [-0.66666667]]))"
      ]
     },
     "execution_count": 69,
     "metadata": {},
     "output_type": "execute_result"
    }
   ],
   "source": [
    "center(m1, m2, scale=True)"
   ]
  },
  {
   "cell_type": "code",
   "execution_count": 71,
   "id": "e436a4b5",
   "metadata": {},
   "outputs": [
    {
     "name": "stderr",
     "output_type": "stream",
     "text": [
      "<ipython-input-70-07e9f4e3cc1f>:14: FutureWarning: elementwise comparison failed; returning scalar instead, but in the future will perform elementwise comparison\n",
      "  if Y == \"None\":\n",
      "<ipython-input-70-07e9f4e3cc1f>:25: RuntimeWarning: invalid value encountered in true_divide\n",
      "  c_mat = c_mat / std_dev[:, None]\n",
      "<ipython-input-70-07e9f4e3cc1f>:26: RuntimeWarning: invalid value encountered in true_divide\n",
      "  c_mat = c_mat / std_dev[None, :]\n"
     ]
    },
    {
     "data": {
      "text/plain": [
       "(array([[ 1.        , -0.26875433],\n",
       "        [-0.26875433,  1.        ]]),\n",
       " array([[ 0.        ,  4.33333333],\n",
       "        [ 1.        , -3.66666667],\n",
       "        [ 4.        , -0.66666667]]))"
      ]
     },
     "execution_count": 71,
     "metadata": {},
     "output_type": "execute_result"
    }
   ],
   "source": [
    "center(m1, m2, scale=True)"
   ]
  },
  {
   "cell_type": "code",
   "execution_count": null,
   "id": "bfae8fef",
   "metadata": {},
   "outputs": [],
   "source": []
  }
 ],
 "metadata": {
  "kernelspec": {
   "display_name": "Python 3",
   "language": "python",
   "name": "python3"
  },
  "language_info": {
   "codemirror_mode": {
    "name": "ipython",
    "version": 3
   },
   "file_extension": ".py",
   "mimetype": "text/x-python",
   "name": "python",
   "nbconvert_exporter": "python",
   "pygments_lexer": "ipython3",
   "version": "3.9.4"
  }
 },
 "nbformat": 4,
 "nbformat_minor": 5
}