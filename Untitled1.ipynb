{
 "cells": [
  {
   "cell_type": "code",
   "execution_count": 14,
   "id": "89ee37fb",
   "metadata": {},
   "outputs": [],
   "source": [
    "import numpy as np\n",
    "import scipy as sp\n",
    "from functions.Load_data import load_the_pickle"
   ]
  },
  {
   "cell_type": "code",
   "execution_count": 62,
   "id": "f5e16ed9",
   "metadata": {},
   "outputs": [],
   "source": [
    "def center(X, Y, scale = False):\n",
    "    if Y == \"None\":\n",
    "        mean = np.mean(X, axis=0)\n",
    "        Y = X\n",
    "    else:\n",
    "        mean = np.mean(Y, axis=0)\n",
    "    X_mean = X - mean\n",
    "    cov_mat = cov_mod(X, Y)\n",
    "    c_mat = cov_mat\n",
    "    if scale:\n",
    "        d = np.diag(c_mat)\n",
    "        stddev = np.sqrt(d)  \n",
    "        c_mat = c_mat / stddev[:, None] \n",
    "        c_mat = c_mat /stddev[None, :]\n",
    "    return c_mat, X_mean"
   ]
  },
  {
   "cell_type": "code",
   "execution_count": 4,
   "id": "0b6a9f5a",
   "metadata": {},
   "outputs": [],
   "source": [
    "def cov_columns(mat, mat2):\n",
    "    x = len(mat2[0])\n",
    "    c = (1/(x-1)) \n",
    "    covvmat = np.zeros((x, x))\n",
    "    for i in range(0, x):\n",
    "        ibit = (mat[:,i] - np.mean(mat2[:,i]))\n",
    "        for j in range (0, x):\n",
    "            covvmat[i,j] = c * np.dot(ibit , (mat[:,j] - np.mean(mat2[:,j])))\n",
    "        \n",
    "    return covvmat"
   ]
  },
  {
   "cell_type": "code",
   "execution_count": 19,
   "id": "e83639b8",
   "metadata": {},
   "outputs": [
    {
     "name": "stdout",
     "output_type": "stream",
     "text": [
      "[[9.         6.         3.        ]\n",
      " [6.         4.33333333 2.66666667]\n",
      " [3.         2.66666667 2.33333333]]\n"
     ]
    }
   ],
   "source": [
    "mean = np.mean(m2, axis=0)\n",
    "m1_m = m1 - mean\n",
    "cov1 = np.cov(m1_m, rowvar = False)\n",
    "print(cov1)"
   ]
  },
  {
   "cell_type": "code",
   "execution_count": 20,
   "id": "380cdb82",
   "metadata": {},
   "outputs": [
    {
     "name": "stdout",
     "output_type": "stream",
     "text": [
      "[[ 9.66666667  6.          0.66666667]\n",
      " [ 6.          4.33333333  2.66666667]\n",
      " [ 0.66666667  2.66666667 10.5       ]]\n"
     ]
    }
   ],
   "source": [
    "cov2 = cov_columns(m1, m2)\n",
    "print(cov2)"
   ]
  },
  {
   "cell_type": "code",
   "execution_count": 41,
   "id": "9a782d6c",
   "metadata": {},
   "outputs": [],
   "source": [
    "def cov_mod(m, n, rowvar=True):\n",
    "    \"\"\"\n",
    "    Gives the covariance matrix of m\n",
    "    Parameters\n",
    "    ----------\n",
    "    m : array_like\n",
    "        A 1-D or 2-D array containing multiple variables and observations.\n",
    "        Each row of `m` represents a variable, and each column a single\n",
    "        observation of all those variables. Also see `rowvar` below.\n",
    "    n : array_like\n",
    "        An array containing multiple variables and observations.\n",
    "    rowvar : bool, optional\n",
    "        If `rowvar` is True (default), then arrays transposed so each row represents a\n",
    "        variable, with observations in the columns. If false then not transposed.\n",
    "    Returns\n",
    "    -------\n",
    "    out : ndarray\n",
    "        The covariance matrix of the variables.\n",
    "    \"\"\"\n",
    "    # Data type: double for higher precision\n",
    "    dtype = np.result_type(m, np.float64)\n",
    "    \n",
    "    # Transpose matrices so that entries of each variable (pixel position) are in rows instead of columns\n",
    "    X = np.array(m, dtype=dtype)\n",
    "    X2 = np.array(n, dtype=dtype)\n",
    "    if rowvar:    \n",
    "        X = X.T\n",
    "        X2 = X2.T\n",
    "\n",
    "    # Averages taken from second (training) array\n",
    "    avg = np.mean(X2, axis=1) \n",
    "    # unweighted, axis=1 means mean over rows\n",
    "\n",
    "    # N-1 calculated:\n",
    "    N_1 = X.shape[1] - 1\n",
    "\n",
    "    # Averages subtracted:\n",
    "    X -= avg[:, None]\n",
    "\n",
    "    # Skalarprodukt \n",
    "    X_T = X.T\n",
    "    c = np.dot(X, X_T)\n",
    "\n",
    "    # Multiplied by 1/(N-1)\n",
    "    c *= np.true_divide(1, N_1)\n",
    "    # Squeeze removes unnecessary dimensions\n",
    "    return c.squeeze()"
   ]
  },
  {
   "cell_type": "code",
   "execution_count": 30,
   "id": "867d84cd",
   "metadata": {},
   "outputs": [
    {
     "data": {
      "text/plain": [
       "array([[0., 0., 0., ..., 0., 0., 0.],\n",
       "       [0., 0., 0., ..., 0., 0., 0.],\n",
       "       [0., 0., 0., ..., 0., 0., 0.],\n",
       "       ...,\n",
       "       [0., 0., 0., ..., 0., 0., 0.],\n",
       "       [0., 0., 0., ..., 0., 0., 0.],\n",
       "       [0., 0., 0., ..., 0., 0., 0.]])"
      ]
     },
     "execution_count": 30,
     "metadata": {},
     "output_type": "execute_result"
    }
   ],
   "source": [
    "cov_mod(x1, x2, rowvar=False)"
   ]
  },
  {
   "cell_type": "code",
   "execution_count": 29,
   "id": "87cdb99f",
   "metadata": {},
   "outputs": [],
   "source": [
    "train_labels, train_values = load_the_pickle('data/train_points.p')\n",
    "test_labels, test_values = load_the_pickle('data/test_points.p')\n",
    "x2 = train_values\n",
    "x1 = test_values"
   ]
  },
  {
   "cell_type": "code",
   "execution_count": 74,
   "id": "6bddcb63",
   "metadata": {},
   "outputs": [
    {
     "name": "stderr",
     "output_type": "stream",
     "text": [
      "<ipython-input-57-ad945ec1c28f>:4: FutureWarning: elementwise comparison failed; returning scalar instead, but in the future will perform elementwise comparison\n",
      "  if Y == \"None\":\n"
     ]
    },
    {
     "name": "stdout",
     "output_type": "stream",
     "text": [
      "99 vs 1\n",
      "Execution time in seconds: 5.962202787399292\n"
     ]
    }
   ],
   "source": [
    "import time\n",
    "import numpy as np\n",
    "import pickle\n",
    "from functions.Load_data import load_the_pickle\n",
    "from functions.PCA import PCA_func\n",
    "from functions.KNN_predict import *\n",
    "#from functions.Standardize import center\n",
    "#from functions.Standardize import center_test_values\n",
    "\n",
    "startTime = time.time()\n",
    "\n",
    "# select number of principle components and k:\n",
    "number_of_pcs = 45\n",
    "k = 6\n",
    "\n",
    "# loading data:\n",
    "train_labels, train_values = load_the_pickle('data/train_points.p')\n",
    "test_labels, test_values = load_the_pickle('data/test_points.p')\n",
    "\n",
    "# standardization and PCA:\n",
    "train_values_centered, train_mean = center(train_values, Y=\"None\")\n",
    "train_values_pca, train_evs = PCA_func(train_values_centered, train_mean, number_of_pcs)\n",
    "\n",
    "test_values_centered, test_mean = center(test_values, Y=train_values)\n",
    "test_values_pca, _ = PCA_func(test_values_centered,test_mean, number_of_pcs, train_evs=train_evs)\n",
    "\n",
    "# kNN:\n",
    "hit = 0\n",
    "miss = 0\n",
    "\n",
    "for sample in range(100):\n",
    "    predicted_value = knn(distance_method=\"euclidean\",trainvalues_pca=train_values_pca, X=test_values_pca[sample,:], trainlabels=train_labels, k=k)\n",
    "    labeled_value = test_labels[sample]\n",
    "    if predicted_value == labeled_value:\n",
    "        hit += 1\n",
    "    else:\n",
    "        miss += 1\n",
    "print(hit, 'vs', miss)\n",
    "\n",
    "executionTime = (time.time() - startTime)\n",
    "\n",
    "print('Execution time in seconds: ' + str(executionTime))\n",
    "# With cov(X_mean): 27.81s and 272.48 (9739 vs 261)\n",
    "# With cov(X): 27.99s and 275.14 (9739 vs 261)\n",
    "\n",
    "#966 vs 34 bei X-mean and X: it makes no difference except in time maybe?"
   ]
  },
  {
   "cell_type": "code",
   "execution_count": null,
   "id": "2c6c9763",
   "metadata": {},
   "outputs": [
    {
     "name": "stderr",
     "output_type": "stream",
     "text": [
      "<ipython-input-2-22ff46fc8238>:20: RuntimeWarning: invalid value encountered in true_divide\n",
      "  c_mat /= stddev[:, None]\n",
      "<ipython-input-2-22ff46fc8238>:21: RuntimeWarning: invalid value encountered in true_divide\n",
      "  c_mat /= stddev[None, :]\n",
      "<ipython-input-2-22ff46fc8238>:4: FutureWarning: elementwise comparison failed; returning scalar instead, but in the future will perform elementwise comparison\n",
      "  if Y == \"None\":\n"
     ]
    }
   ],
   "source": [
    "import numpy as np\n",
    "import pickle\n",
    "from functions.Load_data import load_the_pickle\n",
    "from functions.PCA import PCA_func\n",
    "from functions.KNN_predict import *\n",
    "#from functions.Standardize import center\n",
    "#from functions.Standardize import center_test_values\n",
    "\n",
    "# select number of principle components and k:\n",
    "number_of_pcs = 45\n",
    "k = 6\n",
    "\n",
    "# loading data:\n",
    "train_labels, train_values = load_the_pickle('data/train_points.p')\n",
    "test_labels, test_values = load_the_pickle('data/test_points.p')\n",
    "\n",
    "# standardization and PCA:\n",
    "train_values_centered, train_mean = center(train_values, Y=\"None\", scale = True)\n",
    "train_values_pca, train_evs = PCA_func(train_values_centered, train_mean, number_of_pcs)\n",
    "\n",
    "test_values_centered, test_mean = center(test_values, Y=train_values, scale = True)\n",
    "test_values_pca, _ = PCA_func(test_values_centered,test_mean, number_of_pcs, train_evs=train_evs)\n",
    "\n",
    "def knn_neu(x):\n",
    "    return knn(distance_method=\"euclidean\",trainvalues_pca=train_values_pca, X=test_values_pca[x,:], trainlabels=train_labels, k=k)\n",
    "\n",
    "\n",
    "# kNN:\n",
    "hit = 0\n",
    "miss = 0\n",
    "\n",
    "import multiprocessing\n",
    "\n",
    "l = list(range(100))\n",
    "if __name__ == '__main__':\n",
    "    with multiprocessing.Pool(10) as p:\n",
    "        result = p.map(knn_neu, range(100))\n",
    "    for sample in range(100):\n",
    "        if result[sample] == test_labels[sample]:\n",
    "            hit += 1\n",
    "        else:\n",
    "            miss +=1\n",
    "    print(hit, \"vs\", miss)\n",
    "\n",
    "# Results:\n",
    "# 9739 vs 261 ->k=6 pc=45\n",
    "# run time: 2:08 min -->5 Prozesse\n"
   ]
  },
  {
   "cell_type": "code",
   "execution_count": 5,
   "id": "8582d54b",
   "metadata": {},
   "outputs": [
    {
     "data": {
      "text/plain": [
       "array([[1, 2],\n",
       "       [2, 3],\n",
       "       [3, 4]])"
      ]
     },
     "execution_count": 5,
     "metadata": {},
     "output_type": "execute_result"
    }
   ],
   "source": [
    "v = np.array([[[1,2], [2,3], [3,4]]])\n",
    "np.squeeze(v)"
   ]
  },
  {
   "cell_type": "code",
   "execution_count": 26,
   "id": "27b389d6",
   "metadata": {},
   "outputs": [
    {
     "data": {
      "text/plain": [
       "array([1.        , 6.33333333, 9.33333333])"
      ]
     },
     "execution_count": 26,
     "metadata": {},
     "output_type": "execute_result"
    }
   ],
   "source": [
    "m1 = np.array([[1,2,3], [1,4,6], [1,7,3]])\n",
    "#print(np.corrcoef(m1, rowvar= False))\n",
    "np.diag(np.cov(m1))"
   ]
  },
  {
   "cell_type": "code",
   "execution_count": 37,
   "id": "5f78e088",
   "metadata": {},
   "outputs": [
    {
     "data": {
      "text/plain": [
       "array([[1.  , 2.  , 1.5 ],\n",
       "       [1.  , 4.  , 3.  ],\n",
       "       [0.5 , 3.5 , 0.75]])"
      ]
     },
     "execution_count": 37,
     "metadata": {},
     "output_type": "execute_result"
    }
   ],
   "source": [
    "stddev = np.array([1,1,2])\n",
    "\n",
    "m2 = m1 / stddev[:, None]\n",
    "m2\n",
    "m3 = m2 / stddev[None, :]\n",
    "m3"
   ]
  },
  {
   "cell_type": "code",
   "execution_count": 56,
   "id": "6f3470d7",
   "metadata": {},
   "outputs": [],
   "source": [
    "m1 = np.array([[1,2,10],[1,3,2],[1,6,5]])\n",
    "m2 = np.array([[1,2,5],[1,7,9],[1,2,3]])"
   ]
  },
  {
   "cell_type": "code",
   "execution_count": 63,
   "id": "bbf4e8fe",
   "metadata": {},
   "outputs": [
    {
     "name": "stderr",
     "output_type": "stream",
     "text": [
      "<ipython-input-62-d1aa56d24798>:2: FutureWarning: elementwise comparison failed; returning scalar instead, but in the future will perform elementwise comparison\n",
      "  if Y == \"None\":\n",
      "<ipython-input-62-d1aa56d24798>:18: RuntimeWarning: invalid value encountered in true_divide\n",
      "  c_mat = c_mat / stddev[:, None]\n",
      "<ipython-input-62-d1aa56d24798>:19: RuntimeWarning: invalid value encountered in true_divide\n",
      "  c_mat = c_mat /stddev[None, :]\n"
     ]
    },
    {
     "data": {
      "text/plain": [
       "(array([[       nan,        nan,        nan],\n",
       "        [       nan,  1.       , -0.3764037],\n",
       "        [       nan, -0.3764037,  1.       ]]),\n",
       " array([[ 0.        , -1.66666667,  4.33333333],\n",
       "        [ 0.        , -0.66666667, -3.66666667],\n",
       "        [ 0.        ,  2.33333333, -0.66666667]]))"
      ]
     },
     "execution_count": 63,
     "metadata": {},
     "output_type": "execute_result"
    }
   ],
   "source": [
    "center(m1, m2, scale=True)"
   ]
  }
 ],
 "metadata": {
  "kernelspec": {
   "display_name": "Python 3",
   "language": "python",
   "name": "python3"
  },
  "language_info": {
   "codemirror_mode": {
    "name": "ipython",
    "version": 3
   },
   "file_extension": ".py",
   "mimetype": "text/x-python",
   "name": "python",
   "nbconvert_exporter": "python",
   "pygments_lexer": "ipython3",
   "version": "3.9.4"
  }
 },
 "nbformat": 4,
 "nbformat_minor": 5
}
